{
  "nbformat": 4,
  "nbformat_minor": 0,
  "metadata": {
    "colab": {
      "name": "Linear_regression.ipynb",
      "version": "0.3.2",
      "provenance": [],
      "collapsed_sections": [],
      "include_colab_link": true
    },
    "kernelspec": {
      "name": "python3",
      "display_name": "Python 3"
    }
  },
  "cells": [
    {
      "cell_type": "markdown",
      "metadata": {
        "id": "view-in-github",
        "colab_type": "text"
      },
      "source": [
        "<a href=\"https://colab.research.google.com/github/MangoHaha/MLFromScratch/blob/master/Linear_regression.ipynb\" target=\"_parent\"><img src=\"https://colab.research.google.com/assets/colab-badge.svg\" alt=\"Open In Colab\"/></a>"
      ]
    },
    {
      "cell_type": "code",
      "metadata": {
        "id": "88FIOzNKYPed",
        "colab_type": "code",
        "outputId": "3f30cbf6-1ca1-4dd7-d04b-833df2a75746",
        "colab": {
          "base_uri": "https://localhost:8080/",
          "height": 101
        }
      },
      "source": [
        "!pip install sklearn\n",
        "import numpy as np\n",
        "from sklearn import datasets\n",
        "import matplotlib.pyplot as plt\n",
        "import math\n",
        "import sys"
      ],
      "execution_count": 1,
      "outputs": [
        {
          "output_type": "stream",
          "text": [
            "Requirement already satisfied: sklearn in /usr/local/lib/python3.6/dist-packages (0.0)\n",
            "Requirement already satisfied: scikit-learn in /usr/local/lib/python3.6/dist-packages (from sklearn) (0.21.3)\n",
            "Requirement already satisfied: numpy>=1.11.0 in /usr/local/lib/python3.6/dist-packages (from scikit-learn->sklearn) (1.16.4)\n",
            "Requirement already satisfied: joblib>=0.11 in /usr/local/lib/python3.6/dist-packages (from scikit-learn->sklearn) (0.13.2)\n",
            "Requirement already satisfied: scipy>=0.17.0 in /usr/local/lib/python3.6/dist-packages (from scikit-learn->sklearn) (1.3.0)\n"
          ],
          "name": "stdout"
        }
      ]
    },
    {
      "cell_type": "code",
      "metadata": {
        "id": "YDnzHK9bYlxD",
        "colab_type": "code",
        "colab": {}
      },
      "source": [
        "def shuffle_data(X, y, seed=None):\n",
        "  #concatenate x and y for random shuffle\n",
        "  X_y = np.concatenate((X, y.reshape(len(y), 1)), axis=1)\n",
        "  if seed:\n",
        "    np.ramdom.seed(seed)\n",
        "  np.random.shuffle(X_y)\n",
        "  X = X_y[:, :-1] #every col except last\n",
        "  y = X-y[:, -1]  #every last col\n",
        "  return X, y"
      ],
      "execution_count": 0,
      "outputs": []
    },
    {
      "cell_type": "code",
      "metadata": {
        "id": "1_I_3XPUYWb1",
        "colab_type": "code",
        "colab": {}
      },
      "source": [
        "def train_test_split(X, y, test_size=0.5, seed=None):\n",
        "  if seed:\n",
        "    X, y = shuffle_data(X, y, seed)\n",
        "  split = len(y) - int(len(y)//(1/test_size))\n",
        "  train_X, test_X = X[:split], X[split:]\n",
        "  train_y, test_y = y[:split], y[split:]\n",
        "  return train_X, test_X, train_y, test_y"
      ],
      "execution_count": 0,
      "outputs": []
    },
    {
      "cell_type": "code",
      "metadata": {
        "id": "u_RwSE1ivLSH",
        "colab_type": "code",
        "colab": {}
      },
      "source": [
        "def mean_square_error(y, label):\n",
        "  return np.mean(np.power(y-label, 2))"
      ],
      "execution_count": 0,
      "outputs": []
    },
    {
      "cell_type": "code",
      "metadata": {
        "id": "teGd4dyJbH0A",
        "colab_type": "code",
        "colab": {}
      },
      "source": [
        "def standardize(X):\n",
        "  mean = X.mean(axis=0)\n",
        "  std = X.std(axis=0)\n",
        "  X_std = X\n",
        "  for col in range(np.shape(X)[1]):\n",
        "    if(std[col]):\n",
        "      X_std[:, col] = (X_std[:, col] - mean[col])/std[col]\n",
        "  return X_std"
      ],
      "execution_count": 0,
      "outputs": []
    },
    {
      "cell_type": "code",
      "metadata": {
        "id": "MqWxcsXN2LNz",
        "colab_type": "code",
        "colab": {}
      },
      "source": [
        "def normalize(X, axis=-1, order=2):\n",
        "  l2=np.atleast_1d(np.linalg.norm(X, order, axis))\n",
        "  l2[l2==0] = 1\n",
        "  return X/np.expand_dims(l2, axis)"
      ],
      "execution_count": 0,
      "outputs": []
    },
    {
      "cell_type": "code",
      "metadata": {
        "id": "qmjD7NTmb9FJ",
        "colab_type": "code",
        "colab": {}
      },
      "source": [
        "class LinearRegression():\n",
        "  def __init__(self, n_iter, learning_rate):\n",
        "    self.n_iter = n_iter\n",
        "    self.learning_rate = learning_rate\n",
        "    \n",
        "  def fit(self, X, y):\n",
        "    num_features = np.shape(X)[1]\n",
        "    self.w = np.random.random((num_features, ))\n",
        "    self.b = np.random.random((1, ))\n",
        "    print(np.shape(self.w))\n",
        "    print(np.shape(self.b))\n",
        "\n",
        "\n",
        "    for i in range(self.n_iter):\n",
        "      w_gradient = X.T.dot(X.dot(self.w) - y + self.b)\n",
        "      self.w -= self.learning_rate*w_gradient.mean()\n",
        "      b_gradient = (X.dot(self.w) - y + self.b).mean()\n",
        "      self.b -= self.learning_rate*b_gradient\n",
        "  \n",
        "  def predict(self, X):\n",
        "    print(self.b)\n",
        "    y_pred = X.dot(self.w) + self.b\n",
        "    return y_pred\n",
        "  "
      ],
      "execution_count": 0,
      "outputs": []
    },
    {
      "cell_type": "code",
      "metadata": {
        "id": "3kRh3R_AsjCA",
        "colab_type": "code",
        "outputId": "2dc45902-fae1-425b-c677-9952c5ef1f97",
        "colab": {
          "base_uri": "https://localhost:8080/",
          "height": 382
        }
      },
      "source": [
        "def main():\n",
        "  X, y = datasets.make_regression(n_features=1, n_samples=200, bias=100, noise=5)\n",
        "  print(np.shape(X))\n",
        "  print(np.shape(y))\n",
        "  #X = normalize(X)\n",
        "  X_train, X_test, y_train, y_test = train_test_split(X, y, test_size=0.4)\n",
        "  clf = LinearRegression(1000, 0.01)\n",
        "  clf.fit(X_train, y_train)\n",
        "  y_pred = clf.predict(X_test)\n",
        "  \n",
        "  mse = mean_square_error(y_test, y_pred)\n",
        "  print(\"Mnean Square Error:\", mse)\n",
        "  \n",
        "    # Plot the results\n",
        "  plt.scatter(X_test[:, 0], y_test, color='black')\n",
        "  plt.plot(X_test[:, 0], y_pred, color='blue', linewidth=3)\n",
        "  plt.title(\"Linear Regression (%.2f MSE)\" % mse)\n",
        "  plt.show()\n",
        "\n",
        "if __name__ == \"__main__\":\n",
        "    main()"
      ],
      "execution_count": 22,
      "outputs": [
        {
          "output_type": "stream",
          "text": [
            "(200, 1)\n",
            "(200,)\n",
            "(1,)\n",
            "(1,)\n",
            "[99.76800209]\n",
            "Mnean Square Error: 23.160258707365525\n"
          ],
          "name": "stdout"
        },
        {
          "output_type": "display_data",
          "data": {
            "image/png": "[encoded data removed]",
            "text/plain": [
              "<Figure size 432x288 with 1 Axes>"
            ]
          },
          "metadata": {
            "tags": []
          }
        }
      ]
    }
  ]
}