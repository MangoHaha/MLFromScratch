{
  "nbformat": 4,
  "nbformat_minor": 0,
  "metadata": {
    "colab": {
      "name": "LSTM_Cell.ipynb",
      "version": "0.3.2",
      "provenance": [],
      "collapsed_sections": [],
      "include_colab_link": true
    },
    "kernelspec": {
      "name": "python3",
      "display_name": "Python 3"
    }
  },
  "cells": [
    {
      "cell_type": "markdown",
      "metadata": {
        "id": "view-in-github",
        "colab_type": "text"
      },
      "source": [
        "<a href=\"https://colab.research.google.com/github/MangoHaha/MLFromScratch/blob/master/LSTM_Cell.ipynb\" target=\"_parent\"><img src=\"https://colab.research.google.com/assets/colab-badge.svg\" alt=\"Open In Colab\"/></a>"
      ]
    },
    {
      "cell_type": "code",
      "metadata": {
        "id": "tZIRfeQvZEVO",
        "colab_type": "code",
        "colab": {}
      },
      "source": [
        "import numpy as np\n",
        "from sklearn import datasets\n",
        "import matplotlib.pyplot as plt\n",
        "import math\n",
        "import sys"
      ],
      "execution_count": 0,
      "outputs": []
    },
    {
      "cell_type": "markdown",
      "metadata": {
        "id": "gefTlT3LZHrs",
        "colab_type": "text"
      },
      "source": [
        "[Understanding LSTM Networks](http://colah.github.io/posts/2015-08-Understanding-LSTMs/)"
      ]
    },
    {
      "cell_type": "code",
      "metadata": {
        "id": "vtvr6o1tZHgb",
        "colab_type": "code",
        "colab": {}
      },
      "source": [
        "def LSTM_CELL(pre_hidden=None, X=None, pre_cell_state=None, parameter=None):\n",
        "  '''\n",
        "    input gate: decide which information is important to keep, to be add into new cell state\n",
        "    np.sigmod(parameter.iw*[pre_hidden, X] + param.ib)\n",
        "    output gate: decide which part of current state will be output\n",
        "    np.sigmod(parameter.ow*[pre_hidden, X] + param.ob)\n",
        "    forget gate: decide what information of pre cell state need to be kept or thrown\n",
        "    np.sigmod(parameter.fw*[pre_hidden, X] + param.fb)\n",
        "    new cell: new cell state from current candidate value, again filtered by sigmod\n",
        "    np.tanh(parameter.cw*[pre_hidden, X] + param.cb)\n",
        "    \n",
        "    output new cell state:\n",
        "    output_gate * np.tanh(new_cell)\n",
        "  '''\n",
        "  concat_data = np.concatenate((pre_hidden, X), axis=1)\n",
        "  input_gate = np.sigmod(np.matmul(concat_data, param.iw) + param.ib)\n",
        "  output_gate = np.sigmod(np.matmul(concat_data, param.ow) + param.ob)\n",
        "  forget_gate = np.sigmod(np.matmul(concat_data, param.fw) + param.fb)\n",
        "  new_cell = np.tanh(np.matmul(concat_data, param.cw) + param.cb)\n",
        "  \n",
        "  filtered_pre_cell_state = np.multipy(forget_gate, pre_cell_state)\n",
        "  filtered_cell_state = np.multipy(input_gate, new_cell)\n",
        "  \n",
        "  new_cell_state = filtered_pre_cell_state + filtered_cell_state\n",
        "  new_hidden = np.multipy(output_gate, np.tanh(new_cell_state))\n",
        "  \n",
        "  return new_cell_state, new_hidden\n",
        "  "
      ],
      "execution_count": 0,
      "outputs": []
    }
  ]
}