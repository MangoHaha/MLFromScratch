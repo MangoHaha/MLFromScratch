{
  "nbformat": 4,
  "nbformat_minor": 0,
  "metadata": {
    "colab": {
      "name": "kmeans.ipynb",
      "version": "0.3.2",
      "provenance": [],
      "collapsed_sections": [],
      "include_colab_link": true
    },
    "kernelspec": {
      "name": "python3",
      "display_name": "Python 3"
    }
  },
  "cells": [
    {
      "cell_type": "markdown",
      "metadata": {
        "id": "view-in-github",
        "colab_type": "text"
      },
      "source": [
        "<a href=\"https://colab.research.google.com/github/MangoHaha/MLFromScratch/blob/master/kmeans.ipynb\" target=\"_parent\"><img src=\"https://colab.research.google.com/assets/colab-badge.svg\" alt=\"Open In Colab\"/></a>"
      ]
    },
    {
      "cell_type": "code",
      "metadata": {
        "id": "ai23CR-2i5U1",
        "colab_type": "code",
        "colab": {
          "base_uri": "https://localhost:8080/",
          "height": 101
        },
        "outputId": "7035f48f-d94a-4fce-a4bb-ca87c98dba0e"
      },
      "source": [
        "!pip install sklearn\n",
        "import numpy as np\n",
        "from sklearn import datasets\n",
        "import matplotlib.pyplot as plt\n",
        "import math\n",
        "import sys"
      ],
      "execution_count": 4,
      "outputs": [
        {
          "output_type": "stream",
          "text": [
            "Requirement already satisfied: sklearn in /usr/local/lib/python3.6/dist-packages (0.0)\n",
            "Requirement already satisfied: scikit-learn in /usr/local/lib/python3.6/dist-packages (from sklearn) (0.21.3)\n",
            "Requirement already satisfied: scipy>=0.17.0 in /usr/local/lib/python3.6/dist-packages (from scikit-learn->sklearn) (1.3.1)\n",
            "Requirement already satisfied: joblib>=0.11 in /usr/local/lib/python3.6/dist-packages (from scikit-learn->sklearn) (0.13.2)\n",
            "Requirement already satisfied: numpy>=1.11.0 in /usr/local/lib/python3.6/dist-packages (from scikit-learn->sklearn) (1.16.4)\n"
          ],
          "name": "stdout"
        }
      ]
    },
    {
      "cell_type": "code",
      "metadata": {
        "id": "uXK58j-p3UeG",
        "colab_type": "code",
        "colab": {
          "base_uri": "https://localhost:8080/",
          "height": 121
        },
        "outputId": "7add0247-eeed-4d83-9a7c-1b6de2185813"
      },
      "source": [
        "from google.colab import drive\n",
        "drive.mount('/content/drive')"
      ],
      "execution_count": 25,
      "outputs": [
        {
          "output_type": "stream",
          "text": [
            "Go to this URL in a browser: https://accounts.google.com/o/oauth2/auth?client_id=947318989803-6bn6qk8qdgf4n4g3pfee6491hc0brc4i.apps.googleusercontent.com&redirect_uri=urn%3Aietf%3Awg%3Aoauth%3A2.0%3Aoob&scope=email%20https%3A%2F%2Fwww.googleapis.com%2Fauth%2Fdocs.test%20https%3A%2F%2Fwww.googleapis.com%2Fauth%2Fdrive%20https%3A%2F%2Fwww.googleapis.com%2Fauth%2Fdrive.photos.readonly%20https%3A%2F%2Fwww.googleapis.com%2Fauth%2Fpeopleapi.readonly&response_type=code\n",
            "\n",
            "Enter your authorization code:\n",
            "··········\n",
            "Mounted at /content/drive\n"
          ],
          "name": "stdout"
        }
      ]
    },
    {
      "cell_type": "code",
      "metadata": {
        "id": "shqUwuqS3hca",
        "colab_type": "code",
        "colab": {}
      },
      "source": [
        "import os\n",
        "os.chdir('/content/drive/My Drive/MLFromScratch')\n",
        "sys.path.insert(0,\"./utils\")\n",
        "\n",
        "from data_manipulation import divide_on_feature\n",
        "from data_manipulation import train_test_split, standardize\n",
        "from data_operation import calculate_entropy, accuracy_score\n",
        "from data_operation import mean_squared_error, calculate_variance\n",
        "from principal_component_analysis import PCA"
      ],
      "execution_count": 0,
      "outputs": []
    },
    {
      "cell_type": "code",
      "metadata": {
        "id": "NW9KbQ55mJ_S",
        "colab_type": "code",
        "colab": {}
      },
      "source": [
        "class KMeans():\n",
        "  def __init__(self, K=1, itr=1):\n",
        "    self.K = K\n",
        "    self.itr = itr\n",
        "  \n",
        "  def predict(self, X):\n",
        "    centroids = self._init_cluster(X)\n",
        "    \n",
        "    for i in range(self.itr):\n",
        "      clusters = self._get_clusters(X, centroids)\n",
        "      pre_centroids = centroids\n",
        "      centroids = self._calculate_centroids(clusters, X)\n",
        "      \n",
        "      diff = pre_centroids - centroids\n",
        "      \n",
        "      if not diff.any():\n",
        "        break;\n",
        "    return self._get_cluster_labels(clusters, X)\n",
        "  \n",
        "  def _init_cluster(self, X):\n",
        "    return X[np.random.choice(np.shape(X)[0], self.K)]\n",
        "  \n",
        "  def _get_clusters(self, X, centroids):\n",
        "    clusters = [[] for i in range(self.K)]\n",
        "    for X_i in range(np.shape(X)[0]):\n",
        "      cluster = self._closest_centroids(X[X_i], centroids)\n",
        "      clusters[cluster].append(X_i)\n",
        "    return clusters\n",
        "  \n",
        "  def _closest_centroids(self, x, centroids):\n",
        "    index = 0\n",
        "    max_distance = 0\n",
        "    for i, c in enumerate(centroids):\n",
        "      distance = np.power((c - x), 2).sum();\n",
        "      if(distance < max_distance):\n",
        "        max_distance = distance\n",
        "        index = i\n",
        "    return index\n",
        "  \n",
        "  def _calculate_centroids(self, clusters, X):\n",
        "    centroids = []\n",
        "    for cluster in clusters:\n",
        "      centroids.append(np.mean(X[cluster], axis=0))\n",
        "    return centroids\n",
        "    \n",
        "  # Classify samples as the index of their clusters\n",
        "  def _get_cluster_labels(self, clusters, X):\n",
        "      # One prediction for each sample\n",
        "      y_pred = np.zeros(np.shape(X)[0])\n",
        "      for cluster_i, cluster in enumerate(clusters):\n",
        "          for sample_i in cluster:\n",
        "              y_pred[sample_i] = cluster_i\n",
        "      return y_pred   "
      ],
      "execution_count": 0,
      "outputs": []
    },
    {
      "cell_type": "code",
      "metadata": {
        "id": "5A5uC59014aa",
        "colab_type": "code",
        "colab": {
          "base_uri": "https://localhost:8080/",
          "height": 641
        },
        "outputId": "ac509801-bc91-43f3-a2a8-bdc4c80a3477"
      },
      "source": [
        "def main():\n",
        "    # Load the dataset\n",
        "    X, y = datasets.make_blobs()\n",
        "\n",
        "    # Cluster the data using K-Means\n",
        "    clf = KMeans(K=3)\n",
        "    y_pred = clf.predict(X)\n",
        "\n",
        "    # Project the data onto the 2 primary principal components\n",
        "    pca = PCA()\n",
        "    pca.plot_in_2d(X, y_pred, title=\"K-Means Clustering\")\n",
        "    pca.plot_in_2d(X, y, title=\"Actual Clustering\")\n",
        "\n",
        "\n",
        "if __name__ == \"__main__\":\n",
        "    main()"
      ],
      "execution_count": 28,
      "outputs": [
        {
          "output_type": "stream",
          "text": [
            "/usr/local/lib/python3.6/dist-packages/numpy/core/fromnumeric.py:3118: RuntimeWarning: Mean of empty slice.\n",
            "  out=out, **kwargs)\n",
            "/usr/local/lib/python3.6/dist-packages/numpy/core/_methods.py:78: RuntimeWarning: invalid value encountered in true_divide\n",
            "  ret, rcount, out=ret, casting='unsafe', subok=False)\n"
          ],
          "name": "stderr"
        },
        {
          "output_type": "display_data",
          "data": {
            "image/png": "[encoded data removed]",
            "text/plain": [
              "<Figure size 432x288 with 1 Axes>"
            ]
          },
          "metadata": {
            "tags": []
          }
        },
        {
          "output_type": "display_data",
          "data": {
            "image/png": "[encoded data removed]",
            "text/plain": [
              "<Figure size 432x288 with 1 Axes>"
            ]
          },
          "metadata": {
            "tags": []
          }
        }
      ]
    }
  ]
}