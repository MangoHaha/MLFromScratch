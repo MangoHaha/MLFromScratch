{
  "nbformat": 4,
  "nbformat_minor": 0,
  "metadata": {
    "colab": {
      "name": "Logistic_regression.ipynb",
      "version": "0.3.2",
      "provenance": [],
      "collapsed_sections": [],
      "include_colab_link": true
    },
    "kernelspec": {
      "name": "python3",
      "display_name": "Python 3"
    }
  },
  "cells": [
    {
      "cell_type": "markdown",
      "metadata": {
        "id": "view-in-github",
        "colab_type": "text"
      },
      "source": [
        "<a href=\"https://colab.research.google.com/github/MangoHaha/MLFromScratch/blob/master/Logistic_regression.ipynb\" target=\"_parent\"><img src=\"https://colab.research.google.com/assets/colab-badge.svg\" alt=\"Open In Colab\"/></a>"
      ]
    },
    {
      "cell_type": "code",
      "metadata": {
        "id": "88FIOzNKYPed",
        "colab_type": "code",
        "outputId": "11fa9420-e59b-423b-c7fa-ff551a7441c3",
        "colab": {
          "base_uri": "https://localhost:8080/",
          "height": 101
        }
      },
      "source": [
        "!pip install sklearn\n",
        "import numpy as np\n",
        "from sklearn import datasets\n",
        "import matplotlib.pyplot as plt\n",
        "import math\n",
        "import sys"
      ],
      "execution_count": 31,
      "outputs": [
        {
          "output_type": "stream",
          "text": [
            "Requirement already satisfied: sklearn in /usr/local/lib/python3.6/dist-packages (0.0)\n",
            "Requirement already satisfied: scikit-learn in /usr/local/lib/python3.6/dist-packages (from sklearn) (0.21.3)\n",
            "Requirement already satisfied: joblib>=0.11 in /usr/local/lib/python3.6/dist-packages (from scikit-learn->sklearn) (0.13.2)\n",
            "Requirement already satisfied: scipy>=0.17.0 in /usr/local/lib/python3.6/dist-packages (from scikit-learn->sklearn) (1.3.1)\n",
            "Requirement already satisfied: numpy>=1.11.0 in /usr/local/lib/python3.6/dist-packages (from scikit-learn->sklearn) (1.16.4)\n"
          ],
          "name": "stdout"
        }
      ]
    },
    {
      "cell_type": "code",
      "metadata": {
        "id": "cGzy_W26DGRO",
        "colab_type": "code",
        "colab": {}
      },
      "source": [
        "from google.colab import drive\n",
        "drive.mount('/content/drive/My Drive')"
      ],
      "execution_count": 0,
      "outputs": []
    },
    {
      "cell_type": "code",
      "metadata": {
        "id": "6JtKgzAnGm6O",
        "colab_type": "code",
        "colab": {}
      },
      "source": [
        "import os\n",
        "os.chdir('/content/drive/My Drive/MLFromScratch')\n",
        "os.environ['PATH'] += \"./utils\"\n",
        "from data_manipulation import make_diagonal, normalize, train_test_split\n",
        "from data_operation import accuracy_score\n",
        "from principal_component_analysis import PCA"
      ],
      "execution_count": 0,
      "outputs": []
    },
    {
      "cell_type": "code",
      "metadata": {
        "id": "tnesE5Cd17cn",
        "colab_type": "code",
        "colab": {}
      },
      "source": [
        "def sigmoid(X):\n",
        "  return 1/(1 + np.exp(-X))"
      ],
      "execution_count": 0,
      "outputs": []
    },
    {
      "cell_type": "markdown",
      "metadata": {
        "id": "paOfmJnTw-iM",
        "colab_type": "text"
      },
      "source": [
        "[Log regression objective function\n",
        "](https://towardsdatascience.com/introduction-to-logistic-regression-66248243c148)\n",
        "\n",
        "[Derivative of cost function](https://math.stackexchange.com/questions/477207/derivative-of-cost-function-for-logistic-regression)"
      ]
    },
    {
      "cell_type": "code",
      "metadata": {
        "id": "qmjD7NTmb9FJ",
        "colab_type": "code",
        "colab": {}
      },
      "source": [
        "class LogisticRegression():\n",
        "  def __init__(self, n_iter, learning_rate):\n",
        "    self.n_iter = n_iter\n",
        "    self.learning_rate = learning_rate\n",
        "    \n",
        "  def fit(self, X, y):\n",
        "    X = np.insert(X, 0, 1, axis=1)\n",
        "    num_features = np.shape(X)[1]\n",
        "    self.w = np.random.random((num_features,))\n",
        "    label = sigmoid(X.dot(self.w))\n",
        "    for i in range(self.n_iter):\n",
        "      self.w -= self.learning_rate*X.T.dot(label - y)\n",
        "\n",
        "  \n",
        "  def predict(self, X):\n",
        "    y_pred = X.dot(self.w) \n",
        "    return np.round(sigmoid(y_pred)).astype(int)\n",
        "  "
      ],
      "execution_count": 0,
      "outputs": []
    },
    {
      "cell_type": "code",
      "metadata": {
        "id": "3kRh3R_AsjCA",
        "colab_type": "code",
        "outputId": "5bb3a505-3f15-4517-9707-8164b1c76dc3",
        "colab": {
          "base_uri": "https://localhost:8080/",
          "height": 375
        }
      },
      "source": [
        "def main():\n",
        "  data = datasets.load_iris()\n",
        "  X, y = data.data[data.target != 0], data.target[data.target != 0]\n",
        "  X = normalize(X)\n",
        "  y[y==1] = 0\n",
        "  y[y==2] = 1\n",
        "\n",
        "  X_train, X_test, y_train, y_test = train_test_split(X, y, test_size=0.33)\n",
        "  clf = LogisticRegression(4000, 0.1)\n",
        "  clf.fit(X_train, y_train)\n",
        "  print(np.shape(X_test))\n",
        "  X_test = np.insert(X_test, 0, 1, axis=1)\n",
        "  y_pred = clf.predict(X_test)\n",
        "  \n",
        "  accuracy = accuracy_score(y_test, y_pred)\n",
        "  \n",
        "  print (\"Accuracy:\", accuracy)\n",
        "\n",
        "  # Reduce dimension to two using PCA and plot the results\n",
        "  pca = PCA()\n",
        "  pca.plot_in_2d(X_test, y_pred, title=\"Logistic Regression\", accuracy=accuracy)\n",
        "\n",
        "if __name__ == \"__main__\":\n",
        "    main()"
      ],
      "execution_count": 82,
      "outputs": [
        {
          "output_type": "stream",
          "text": [
            "(33, 4)\n",
            "Accuracy: 0.5757575757575758\n"
          ],
          "name": "stdout"
        },
        {
          "output_type": "stream",
          "text": [
            "/usr/local/lib/python3.6/dist-packages/ipykernel_launcher.py:2: RuntimeWarning: overflow encountered in exp\n",
            "  \n"
          ],
          "name": "stderr"
        },
        {
          "output_type": "display_data",
          "data": {
            "image/png": "[encoded data removed]",
            "text/plain": [
              "<Figure size 432x288 with 1 Axes>"
            ]
          },
          "metadata": {
            "tags": []
          }
        }
      ]
    }
  ]
}