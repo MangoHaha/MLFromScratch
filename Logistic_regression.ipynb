{
  "nbformat": 4,
  "nbformat_minor": 0,
  "metadata": {
    "colab": {
      "name": "Logistic_regression.ipynb",
      "version": "0.3.2",
      "provenance": [],
      "collapsed_sections": [],
      "include_colab_link": true
    },
    "kernelspec": {
      "name": "python3",
      "display_name": "Python 3"
    }
  },
  "cells": [
    {
      "cell_type": "markdown",
      "metadata": {
        "id": "view-in-github",
        "colab_type": "text"
      },
      "source": [
        "<a href=\"https://colab.research.google.com/github/MangoHaha/MLFromScratch/blob/master/Logistic_regression.ipynb\" target=\"_parent\"><img src=\"https://colab.research.google.com/assets/colab-badge.svg\" alt=\"Open In Colab\"/></a>"
      ]
    },
    {
      "cell_type": "code",
      "metadata": {
        "id": "88FIOzNKYPed",
        "colab_type": "code",
        "outputId": "7205e57d-013f-4e9f-e946-9433577cc081",
        "colab": {
          "base_uri": "https://localhost:8080/",
          "height": 101
        }
      },
      "source": [
        "!pip install sklearn\n",
        "import numpy as np\n",
        "from sklearn import datasets\n",
        "import matplotlib.pyplot as plt\n",
        "import math\n",
        "import sys"
      ],
      "execution_count": 24,
      "outputs": [
        {
          "output_type": "stream",
          "text": [
            "Requirement already satisfied: sklearn in /usr/local/lib/python3.6/dist-packages (0.0)\n",
            "Requirement already satisfied: scikit-learn in /usr/local/lib/python3.6/dist-packages (from sklearn) (0.21.3)\n",
            "Requirement already satisfied: joblib>=0.11 in /usr/local/lib/python3.6/dist-packages (from scikit-learn->sklearn) (0.13.2)\n",
            "Requirement already satisfied: numpy>=1.11.0 in /usr/local/lib/python3.6/dist-packages (from scikit-learn->sklearn) (1.16.4)\n",
            "Requirement already satisfied: scipy>=0.17.0 in /usr/local/lib/python3.6/dist-packages (from scikit-learn->sklearn) (1.3.0)\n"
          ],
          "name": "stdout"
        }
      ]
    },
    {
      "cell_type": "code",
      "metadata": {
        "id": "YDnzHK9bYlxD",
        "colab_type": "code",
        "colab": {}
      },
      "source": [
        "def shuffle_data(X, y, seed=None):\n",
        "  #concatenate x and y for random shuffle\n",
        "  X_y = np.concatenate((X, y.reshape(len(y), 1)), axis=1)\n",
        "  if seed:\n",
        "    np.ramdom.seed(seed)\n",
        "  np.random.shuffle(X_y)\n",
        "  X = X_y[:, :-1] #every col except last\n",
        "  y = X-y[:, -1]  #every last col\n",
        "  return X, y"
      ],
      "execution_count": 0,
      "outputs": []
    },
    {
      "cell_type": "code",
      "metadata": {
        "id": "1_I_3XPUYWb1",
        "colab_type": "code",
        "colab": {}
      },
      "source": [
        "def train_test_split(X, y, test_size=0.5, seed=None):\n",
        "  if seed:\n",
        "    X, y = shuffle_data(X, y, seed)\n",
        "  split = len(y) - int(len(y)//(1/test_size))\n",
        "  train_X, test_X = X[:split], X[split:]\n",
        "  train_y, test_y = y[:split], y[split:]\n",
        "  return train_X, test_X, train_y, test_y"
      ],
      "execution_count": 0,
      "outputs": []
    },
    {
      "cell_type": "code",
      "metadata": {
        "id": "u_RwSE1ivLSH",
        "colab_type": "code",
        "colab": {}
      },
      "source": [
        "def mean_square_error(y, label):\n",
        "  return np.mean(np.power(y-label, 2))"
      ],
      "execution_count": 0,
      "outputs": []
    },
    {
      "cell_type": "code",
      "metadata": {
        "id": "teGd4dyJbH0A",
        "colab_type": "code",
        "colab": {}
      },
      "source": [
        "def standardize(X):\n",
        "  mean = X.mean(axis=0)\n",
        "  std = X.std(axis=0)\n",
        "  X_std = X\n",
        "  for col in range(np.shape(X)[1]):\n",
        "    if(std[col]):\n",
        "      X_std[:, col] = (X_std[:, col] - mean[col])/std[col]\n",
        "  return X_std"
      ],
      "execution_count": 0,
      "outputs": []
    },
    {
      "cell_type": "code",
      "metadata": {
        "id": "MqWxcsXN2LNz",
        "colab_type": "code",
        "colab": {}
      },
      "source": [
        "def normalize(X, axis=-1, order=2):\n",
        "  l2=np.atleast_1d(np.linalg.norm(X, order, axis))\n",
        "  l2[l2==0] = 1\n",
        "  return X/np.expand_dims(l2, axis)"
      ],
      "execution_count": 0,
      "outputs": []
    },
    {
      "cell_type": "code",
      "metadata": {
        "id": "tnesE5Cd17cn",
        "colab_type": "code",
        "colab": {}
      },
      "source": [
        "def sigmoid(X):\n",
        "  return 1/(1 + np.exp(-X))"
      ],
      "execution_count": 0,
      "outputs": []
    },
    {
      "cell_type": "code",
      "metadata": {
        "id": "T6zgz44o3K7R",
        "colab_type": "code",
        "colab": {}
      },
      "source": [
        "def accuracy_score(y, pre_y):\n",
        "  score=0\n",
        "  for i in range(len(y)):\n",
        "    if y[i] == pre_y[i]:\n",
        "      score = score + 1\n",
        "  return score/len(y)\n",
        "    "
      ],
      "execution_count": 0,
      "outputs": []
    },
    {
      "cell_type": "code",
      "metadata": {
        "id": "sgo0-3rI4nU5",
        "colab_type": "code",
        "colab": {}
      },
      "source": [
        "# Return the variance of the features in dataset X\n",
        "def calculate_variance(X):\n",
        "    mean = np.ones(np.shape(X)) * X.mean(0)\n",
        "    n_samples = np.shape(X)[0]\n",
        "    variance = (1 / n_samples) * np.diag((X - mean).T.dot(X - mean))\n",
        "\n",
        "    return variance"
      ],
      "execution_count": 0,
      "outputs": []
    },
    {
      "cell_type": "code",
      "metadata": {
        "id": "TXuA4cP54uc5",
        "colab_type": "code",
        "colab": {}
      },
      "source": [
        "# Calculate the covariance matrix for the dataset X\n",
        "def calculate_covariance_matrix(X, Y=np.empty((0,0))):\n",
        "    if not Y.any():\n",
        "        Y = X\n",
        "    n_samples = np.shape(X)[0]\n",
        "    covariance_matrix = (1 / (n_samples-1)) * (X - X.mean(0)).T.dot(Y - Y.mean(0))\n",
        "\n",
        "    return np.array(covariance_matrix, dtype=float)\n",
        " \n",
        "# Calculate the correlation matrix for the dataset X\n",
        "def calculate_correlation_matrix(X, Y=np.empty((0,0))):\n",
        "    if not Y.any():\n",
        "        Y = X\n",
        "    n_samples = np.shape(X)[0]\n",
        "    covariance = (1 / n_samples) * (X - X.mean(0)).T.dot(Y - Y.mean(0))\n",
        "    std_dev_X = np.expand_dims(calculate_std_dev(X), 1)\n",
        "    std_dev_y = np.expand_dims(calculate_std_dev(Y), 1)\n",
        "    correlation_matrix = np.divide(covariance, std_dev_X.dot(std_dev_y.T))\n",
        "\n",
        "    return np.array(correlation_matrix, dtype=float)"
      ],
      "execution_count": 0,
      "outputs": []
    },
    {
      "cell_type": "markdown",
      "metadata": {
        "id": "paOfmJnTw-iM",
        "colab_type": "text"
      },
      "source": [
        "[Log regression objective function\n",
        "](https://towardsdatascience.com/introduction-to-logistic-regression-66248243c148)\n",
        "\n",
        "[Derivative of cost function](https://math.stackexchange.com/questions/477207/derivative-of-cost-function-for-logistic-regression)"
      ]
    },
    {
      "cell_type": "code",
      "metadata": {
        "id": "qmjD7NTmb9FJ",
        "colab_type": "code",
        "colab": {}
      },
      "source": [
        "class LogisticRegression():\n",
        "  def __init__(self, n_iter, learning_rate):\n",
        "    self.n_iter = n_iter\n",
        "    self.learning_rate = learning_rate\n",
        "    \n",
        "  def fit(self, X, y):\n",
        "    num_features = np.shape(X)[1]\n",
        "    self.w = np.zeros(num_features)\n",
        "    label = self.predict(X)\n",
        "    for i in range(self.n_iter):\n",
        "      w_gradient = X.T.dot(X.dot(self.w) - y)\n",
        "      self.w -= self.learning_rate*X.T.dot(label - y)\n",
        "\n",
        "  \n",
        "  def predict(self, X):\n",
        "    y_pred = X.dot(self.w) \n",
        "    return np.round(sigmoid(y_pred)).astype(int)\n",
        "  "
      ],
      "execution_count": 0,
      "outputs": []
    },
    {
      "cell_type": "code",
      "metadata": {
        "id": "3kRh3R_AsjCA",
        "colab_type": "code",
        "outputId": "41e605c2-a4ba-4ab0-e54a-1063df261eac",
        "colab": {
          "base_uri": "https://localhost:8080/",
          "height": 358
        }
      },
      "source": [
        "def main():\n",
        "  data = datasets.load_iris()\n",
        "  X, y = data.data, data.target\n",
        "  print(np.shape(X))\n",
        "  print(np.shape(y))\n",
        "  #X = normalize(X)\n",
        "  X_train, X_test, y_train, y_test = train_test_split(X, y, test_size=0.4)\n",
        "  clf = LogisticRegression(4000, 0.01)\n",
        "  clf.fit(X_train, y_train)\n",
        "  y_pred = clf.predict(X_test)\n",
        "  \n",
        "  accuracy = accuracy_score(y_test, y_pred)\n",
        "  \n",
        "  print (\"Accuracy:\", accuracy)\n",
        "\n",
        "  # Reduce dimension to two using PCA and plot the results\n",
        "  pca = PCA()\n",
        "  pca.plot_in_2d(X_test, y_pred, title=\"Logistic Regression\", accuracy=accuracy)\n",
        "\n",
        "if __name__ == \"__main__\":\n",
        "    main()"
      ],
      "execution_count": 48,
      "outputs": [
        {
          "output_type": "stream",
          "text": [
            "(150, 4)\n",
            "(150,)\n",
            "Accuracy: 0.16666666666666666\n"
          ],
          "name": "stdout"
        },
        {
          "output_type": "display_data",
          "data": {
            "image/png": "[encoded data removed]",
            "text/plain": [
              "<Figure size 432x288 with 1 Axes>"
            ]
          },
          "metadata": {
            "tags": []
          }
        }
      ]
    },
    {
      "cell_type": "code",
      "metadata": {
        "id": "meYxg6gN4YWu",
        "colab_type": "code",
        "colab": {}
      },
      "source": [
        "from __future__ import print_function\n",
        "import sys\n",
        "import os\n",
        "from sklearn import datasets\n",
        "from mpl_toolkits.mplot3d import Axes3D\n",
        "import matplotlib.pyplot as plt\n",
        "import matplotlib.cm as cmx\n",
        "import matplotlib.colors as colors\n",
        "import numpy as np\n",
        "\n",
        "class PCA():\n",
        "    \"\"\"A method for doing dimensionality reduction by transforming the feature\n",
        "    space to a lower dimensionality, removing correlation between features and \n",
        "    maximizing the variance along each feature axis. This class is also used throughout\n",
        "    the project to plot data.\n",
        "    \"\"\"\n",
        "    def __init__(self): pass\n",
        "\n",
        "    # Fit the dataset to the number of principal components\n",
        "    # specified in the constructor and return the transformed dataset\n",
        "    def transform(self, X, n_components):\n",
        "        covariance = calculate_covariance_matrix(X)\n",
        "\n",
        "        # Get the eigenvalues and eigenvectors.\n",
        "        # (eigenvector[:,0] corresponds to eigenvalue[0])\n",
        "        eigenvalues, eigenvectors = np.linalg.eig(covariance)\n",
        "\n",
        "        # Sort the eigenvalues and corresponding eigenvectors from largest\n",
        "        # to smallest eigenvalue and select the first n_components\n",
        "        idx = eigenvalues.argsort()[::-1]\n",
        "        eigenvalues = eigenvalues[idx][:n_components]\n",
        "        eigenvectors = np.atleast_1d(eigenvectors[:, idx])[:, :n_components]\n",
        "\n",
        "        # Project the data onto principal components\n",
        "        X_transformed = X.dot(eigenvectors)\n",
        "\n",
        "        return X_transformed\n",
        "\n",
        "    def get_color_map(self, N):\n",
        "        color_norm  = colors.Normalize(vmin=0, vmax=N-1)\n",
        "        scalar_map = cmx.ScalarMappable(norm=color_norm, cmap='hsv') \n",
        "        def map_index_to_rgb_color(index):\n",
        "            return scalar_map.to_rgba(index)\n",
        "        return map_index_to_rgb_color\n",
        "\n",
        "    # Plot the dataset X and the corresponding labels y in 2D using PCA.\n",
        "    def plot_in_2d(self, X, y=None, title=None, accuracy=None, legend_labels=None):\n",
        "        X_transformed = self.transform(X, n_components=2)\n",
        "        x1 = X_transformed[:, 0]\n",
        "        x2 = X_transformed[:, 1]\n",
        "        class_distr = []\n",
        "\n",
        "        y = np.array(y).astype(int)\n",
        "\n",
        "        # Color map\n",
        "        cmap = plt.get_cmap('viridis')\n",
        "        colors = [cmap(i) for i in np.linspace(0, 1, len(np.unique(y)))]\n",
        "\n",
        "        # Plot the different class distributions\n",
        "        for i, l in enumerate(np.unique(y)):\n",
        "            _x1 = x1[y == l]\n",
        "            _x2 = x2[y == l]\n",
        "            _y = y[y == l]\n",
        "            class_distr.append(plt.scatter(_x1, _x2, color=colors[i]))\n",
        "\n",
        "        # Plot legend\n",
        "        if not legend_labels is None: \n",
        "            plt.legend(class_distr, legend_labels, loc=1)\n",
        "\n",
        "        # Plot title\n",
        "        if title:\n",
        "            if accuracy:\n",
        "                percent = 100 * accuracy\n",
        "                plt.suptitle(title)\n",
        "                plt.title(\"Accuracy: %.1f%%\" % percent, fontsize=10)\n",
        "            else:\n",
        "                plt.title(title)\n",
        "\n",
        "        # Axis labels\n",
        "        plt.xlabel('Principal Component 1')\n",
        "        plt.ylabel('Principal Component 2')\n",
        "\n",
        "        plt.show()\n",
        "\n",
        "    # Plot the dataset X and the corresponding labels y in 3D using PCA.\n",
        "    def plot_in_3d(self, X, y=None):\n",
        "        X_transformed = self.transform(X, n_components=3)\n",
        "        x1 = X_transformed[:, 0]\n",
        "        x2 = X_transformed[:, 1]\n",
        "        x3 = X_transformed[:, 2]\n",
        "        fig = plt.figure()\n",
        "        ax = fig.add_subplot(111, projection='3d')\n",
        "        ax.scatter(x1, x2, x3, c=y)\n",
        "        plt.show()\n"
      ],
      "execution_count": 0,
      "outputs": []
    }
  ]
}