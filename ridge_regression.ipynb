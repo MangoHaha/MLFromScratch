{
  "nbformat": 4,
  "nbformat_minor": 0,
  "metadata": {
    "colab": {
      "name": "ridge_regression.ipynb",
      "version": "0.3.2",
      "provenance": [],
      "include_colab_link": true
    },
    "kernelspec": {
      "name": "python3",
      "display_name": "Python 3"
    }
  },
  "cells": [
    {
      "cell_type": "markdown",
      "metadata": {
        "id": "view-in-github",
        "colab_type": "text"
      },
      "source": [
        "<a href=\"https://colab.research.google.com/github/MangoHaha/MLFromScratch/blob/master/ridge_regression.ipynb\" target=\"_parent\"><img src=\"https://colab.research.google.com/assets/colab-badge.svg\" alt=\"Open In Colab\"/></a>"
      ]
    },
    {
      "cell_type": "markdown",
      "metadata": {
        "id": "EfH7G6y2VaBF",
        "colab_type": "text"
      },
      "source": [
        "Linear regrewwion model with a regularization factor"
      ]
    },
    {
      "cell_type": "code",
      "metadata": {
        "id": "iTUI9vIfVPsh",
        "colab_type": "code",
        "outputId": "04ae4568-491e-4a05-d641-ee07b6749dad",
        "colab": {
          "base_uri": "https://localhost:8080/",
          "height": 101
        }
      },
      "source": [
        "!pip install sklearn\n",
        "import numpy as np\n",
        "from sklearn import datasets\n",
        "import matplotlib.pyplot as plt\n",
        "import math\n",
        "import sys"
      ],
      "execution_count": 0,
      "outputs": [
        {
          "output_type": "stream",
          "text": [
            "Requirement already satisfied: sklearn in /usr/local/lib/python3.6/dist-packages (0.0)\n",
            "Requirement already satisfied: scikit-learn in /usr/local/lib/python3.6/dist-packages (from sklearn) (0.21.3)\n",
            "Requirement already satisfied: scipy>=0.17.0 in /usr/local/lib/python3.6/dist-packages (from scikit-learn->sklearn) (1.3.1)\n",
            "Requirement already satisfied: joblib>=0.11 in /usr/local/lib/python3.6/dist-packages (from scikit-learn->sklearn) (0.13.2)\n",
            "Requirement already satisfied: numpy>=1.11.0 in /usr/local/lib/python3.6/dist-packages (from scikit-learn->sklearn) (1.16.4)\n"
          ],
          "name": "stdout"
        }
      ]
    },
    {
      "cell_type": "code",
      "metadata": {
        "id": "pAK-XQQkXXQJ",
        "colab_type": "code",
        "colab": {}
      },
      "source": [
        "class Ridge_Regression():\n",
        "  def __init__(self, num_itr=100, lamb=0.01, lr=0.001):\n",
        "    self.num_itr = num_itr\n",
        "    self.lamb = lamb\n",
        "    self.lr = lr\n",
        "  \n",
        "  def fit(self, X, y):\n",
        "    self.w = np.random.random(np.shape(X)[1])\n",
        "    self.w = np.expand_dims(self.w, axis=1)\n",
        "    y = np.expand_dims(y, axis=1)\n",
        "    for i in range(self.num_itr):\n",
        "      self.w -= self.lr*(X.T.dot(X.dot(self.w) - y) + self.lamb*self.w)\n",
        "  \n",
        "  def predict(self, X):\n",
        "    return X.dot(self.w)"
      ],
      "execution_count": 0,
      "outputs": []
    },
    {
      "cell_type": "code",
      "metadata": {
        "id": "EBvnJKVhhbLv",
        "colab_type": "code",
        "colab": {}
      },
      "source": [
        "def train_test_split(X, y, test_size):\n",
        "  y = np.expand_dims(y, axis=1)\n",
        "  X_y = np.concatenate((X,y), axis = 1)\n",
        "  print(np.shape(X_y))\n",
        "  np.random.shuffle(X_y)\n",
        "  num_line = (int)(test_size*len(X))\n",
        "  print(num_line)\n",
        "  return X_y[:num_line, :-1], X_y[num_line:, :-1], \\\n",
        "          X_y[:num_line, -1], X_y[num_line:, -1]\n",
        "\n",
        "def mean_squared_error(y, pred):\n",
        "  return np.mean(np.power((y-pred), 2))\n"
      ],
      "execution_count": 0,
      "outputs": []
    },
    {
      "cell_type": "code",
      "metadata": {
        "id": "tMBGrXjvhKoV",
        "colab_type": "code",
        "outputId": "46cc5414-2d6e-4a35-dd77-2aabc33bd19e",
        "colab": {
          "base_uri": "https://localhost:8080/",
          "height": 331
        }
      },
      "source": [
        "def main():\n",
        "\n",
        "    X, y = datasets.make_regression(n_features=1, n_samples=200, bias=100, noise=5)\n",
        "\n",
        "    X_train, X_test, y_train, y_test = train_test_split(X, y, test_size=0.4)\n",
        "\n",
        "    clf = Ridge_Regression()\n",
        "    clf.fit(X_train, y_train)\n",
        "    y_pred = clf.predict(X_test)\n",
        "\n",
        "    mse = mean_squared_error(y_test, y_pred)\n",
        "\n",
        "    # Print the mean squared error\n",
        "    print (\"Mean Squared Error:\", mse)\n",
        "\n",
        "    # Plot the results\n",
        "    plt.scatter(X_test[:, 0], y_test, color='black')\n",
        "    plt.plot(X_test[:, 0], y_pred, color='blue', linewidth=3)\n",
        "    plt.title(\"Linear Regression (%.2f MSE)\" % mse)\n",
        "    plt.show()\n",
        "\n",
        "if __name__ == \"__main__\":\n",
        "    main()"
      ],
      "execution_count": 0,
      "outputs": [
        {
          "output_type": "stream",
          "text": [
            "(200, 2)\n",
            "80\n",
            "Mean Squared Error: 31912.33359169819\n"
          ],
          "name": "stdout"
        },
        {
          "output_type": "display_data",
          "data": {
            "image/png": "[encoded data removed]",
            "text/plain": [
              "<Figure size 432x288 with 1 Axes>"
            ]
          },
          "metadata": {
            "tags": []
          }
        }
      ]
    }
  ]
}