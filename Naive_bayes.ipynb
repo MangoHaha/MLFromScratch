{
  "nbformat": 4,
  "nbformat_minor": 0,
  "metadata": {
    "colab": {
      "name": "Naive_bayes.ipynb",
      "version": "0.3.2",
      "provenance": [],
      "collapsed_sections": [],
      "include_colab_link": true
    },
    "kernelspec": {
      "name": "python3",
      "display_name": "Python 3"
    }
  },
  "cells": [
    {
      "cell_type": "markdown",
      "metadata": {
        "id": "view-in-github",
        "colab_type": "text"
      },
      "source": [
        "<a href=\"https://colab.research.google.com/github/MangoHaha/MLFromScratch/blob/master/Naive_bayes.ipynb\" target=\"_parent\"><img src=\"https://colab.research.google.com/assets/colab-badge.svg\" alt=\"Open In Colab\"/></a>"
      ]
    },
    {
      "cell_type": "code",
      "metadata": {
        "id": "UB-KyhAC_T43",
        "colab_type": "code",
        "outputId": "02dfc4d7-09f5-4805-8ab9-f96fcc70c2c4",
        "colab": {
          "base_uri": "https://localhost:8080/",
          "height": 104
        }
      },
      "source": [
        "!pip install sklearn\n",
        "import numpy as np\n",
        "from sklearn import datasets\n",
        "import matplotlib.pyplot as plt\n",
        "import math\n",
        "import sys\n"
      ],
      "execution_count": 1,
      "outputs": [
        {
          "output_type": "stream",
          "text": [
            "Requirement already satisfied: sklearn in /usr/local/lib/python3.6/dist-packages (0.0)\n",
            "Requirement already satisfied: scikit-learn in /usr/local/lib/python3.6/dist-packages (from sklearn) (0.21.3)\n",
            "Requirement already satisfied: joblib>=0.11 in /usr/local/lib/python3.6/dist-packages (from scikit-learn->sklearn) (0.13.2)\n",
            "Requirement already satisfied: numpy>=1.11.0 in /usr/local/lib/python3.6/dist-packages (from scikit-learn->sklearn) (1.16.4)\n",
            "Requirement already satisfied: scipy>=0.17.0 in /usr/local/lib/python3.6/dist-packages (from scikit-learn->sklearn) (1.3.1)\n"
          ],
          "name": "stdout"
        }
      ]
    },
    {
      "cell_type": "code",
      "metadata": {
        "id": "AF-OKqVf_Z7H",
        "colab_type": "code",
        "outputId": "e34614cd-2522-4abb-9344-969ff3063182",
        "colab": {
          "base_uri": "https://localhost:8080/",
          "height": 124
        }
      },
      "source": [
        "from google.colab import drive\n",
        "drive.mount('/content/drive')"
      ],
      "execution_count": 2,
      "outputs": [
        {
          "output_type": "stream",
          "text": [
            "Go to this URL in a browser: https://accounts.google.com/o/oauth2/auth?client_id=947318989803-6bn6qk8qdgf4n4g3pfee6491hc0brc4i.apps.googleusercontent.com&redirect_uri=urn%3Aietf%3Awg%3Aoauth%3A2.0%3Aoob&scope=email%20https%3A%2F%2Fwww.googleapis.com%2Fauth%2Fdocs.test%20https%3A%2F%2Fwww.googleapis.com%2Fauth%2Fdrive%20https%3A%2F%2Fwww.googleapis.com%2Fauth%2Fdrive.photos.readonly%20https%3A%2F%2Fwww.googleapis.com%2Fauth%2Fpeopleapi.readonly&response_type=code\n",
            "\n",
            "Enter your authorization code:\n",
            "··········\n",
            "Mounted at /content/drive\n"
          ],
          "name": "stdout"
        }
      ]
    },
    {
      "cell_type": "code",
      "metadata": {
        "id": "cKzC88qS_gMJ",
        "colab_type": "code",
        "colab": {}
      },
      "source": [
        "import os\n",
        "os.chdir('/content/drive/My Drive/MLFromScratch')\n",
        "sys.path.insert(0,\"./utils\")\n",
        "\n",
        "from data_manipulation import divide_on_feature\n",
        "from data_manipulation import train_test_split, standardize\n",
        "from data_operation import calculate_entropy, accuracy_score\n",
        "from data_operation import mean_squared_error, calculate_variance\n",
        "from principal_component_analysis import PCA\n",
        "from data_manipulation import train_test_split, normalize\n"
      ],
      "execution_count": 0,
      "outputs": []
    },
    {
      "cell_type": "code",
      "metadata": {
        "id": "4sTXod_K_hYZ",
        "colab_type": "code",
        "colab": {}
      },
      "source": [
        "class NaiveBayes():\n",
        "  \"\"\"The Gaussian Naive Bayes classifier. \"\"\"\n",
        "  def __init__(self):\n",
        "    self.classes = None\n",
        "    self.X = None\n",
        "    self.y = None\n",
        "    self.parameters_xy = []\n",
        "\n",
        "  # Predict the class labels corresponding to the\n",
        "  # samples in X\n",
        "  def predict(self, X):\n",
        "        y_pred = []\n",
        "        for sample in X:\n",
        "            y = self._classify(sample)\n",
        "            y_pred.append(y)\n",
        "        return y_pred  \n",
        "  def fit(self, X, y):\n",
        "    self.X = X\n",
        "    self.y = y\n",
        "    self.classes = np.unique(y)\n",
        "    #pre calculate mean and variance for each feature for each class\n",
        "    #Will use for probability density calculation\n",
        "    for i in range(len(self.classes)):\n",
        "      #only working on for specific class\n",
        "      cl = self.classes[i]\n",
        "      x_where_c = X[np.where(y == cl)]\n",
        "      parameters_x = []\n",
        "      self.parameters_xy.append([])\n",
        "      for j in range(np.shape(x_where_c)[1]):\n",
        "        col = x_where_c[:, j]\n",
        "        parameters = {}\n",
        "        parameters[\"mean\"] = col.mean()\n",
        "        parameters['var'] = col.var()\n",
        "\n",
        "        parameters_x.append(parameters)\n",
        "        self.parameters_xy[i].append(parameters_x)\n",
        "\n",
        "  def _calculate_prob(self, mean, var, x):\n",
        "    coeff = (1.0/(math.sqrt((2.0*math.pi)*var)))\n",
        "    exponent = math.exp(-(math.pow(x-mean, 2)/(2 * var)))\n",
        "    return coeff * exponent\n",
        "\n",
        "\n",
        "  # Calculate the prior of class c (samples where class == c / total number\n",
        "  # of samples)\n",
        "  def _cal_prior(self, c):\n",
        "    # Selects the rows where the class label is c\n",
        "    x_where_c = self.X[np.where(self.y == c)]\n",
        "    return np.shape(x_where_c)[0]/np.shape(self.X)[0]\n",
        "\n",
        "  # Classify using Bayes Rule, P(Y|X) = P(X|Y)*P(Y)/P(X)\n",
        "  # P(X|Y) - Probability. Gaussian distribution (given by calculate_probability)\n",
        "  # P(Y) - Prior (given by calculate_prior)\n",
        "  # P(X) - Scales the posterior to the range 0 - 1 (ignored)\n",
        "  # Classify the sample as the class that results in the largest P(Y|X)\n",
        "  # (posterior)\n",
        "\n",
        "  def _classify(self, samples):\n",
        "    posteriors = []\n",
        "    for i in range(len(self.classes)):\n",
        "      cl = self.classes[i]\n",
        "      x_where_c = self.X[np.where(self.y == cl)]\n",
        "      prior = np.shape(x_where_c)[0]/np.shape(self.X)[0]\n",
        "      #prior = _cal_prior(cl)\n",
        "      posterior = prior\n",
        "      # multiply with the additional probabilties\n",
        "      # Naive assumption (independence):\n",
        "      # P(x1,x2,x3|Y) = P(x1|Y)*P(x2|Y)*P(x3|Y)\n",
        "      for j, params in enumerate(self.parameters_xy[i]):\n",
        "        sample_feature = j\n",
        "        mean = params[j][\"mean\"]\n",
        "        var = params[j][\"var\"]\n",
        "        coeff = (1.0/(math.sqrt((2.0*math.pi)*var)))\n",
        "        exponent = math.exp(-(math.pow(samples[j]-mean, 2)/(2 * var)))\n",
        "        prob = coeff*exponent\n",
        "        posterior *= prob\n",
        "      posteriors.append(posterior)\n",
        "      # Get the largest probability and return the class corresponding\n",
        "      # to that probability\n",
        "      index_of_max = np.argmax(posteriors)\n",
        "      max_value = posteriors[index_of_max]\n",
        "      return self.classes[index_of_max]\n",
        "\n",
        "\n",
        "\n",
        "\n",
        "    "
      ],
      "execution_count": 0,
      "outputs": []
    },
    {
      "cell_type": "code",
      "metadata": {
        "id": "P7_jLH4AN09W",
        "colab_type": "code",
        "outputId": "59739886-762e-4f67-8d03-22f6bb415648",
        "colab": {
          "base_uri": "https://localhost:8080/",
          "height": 325
        }
      },
      "source": [
        "def main():\n",
        "    data = datasets.load_iris()\n",
        "    X = normalize(data.data)\n",
        "    y = data.target\n",
        "\n",
        "    X_train, X_test, y_train, y_test = train_test_split(X, y, test_size=0.5)\n",
        "\n",
        "    clf = NaiveBayes()\n",
        "    clf.fit(X_train, y_train)\n",
        "    y_pred = clf.predict(X_test)\n",
        "\n",
        "    accuracy = accuracy_score(y_test, y_pred)\n",
        "\n",
        "    print (\"Accuracy:\", accuracy)\n",
        "\n",
        "    # Reduce dimension to two using PCA and plot the results\n",
        "    pca = PCA()\n",
        "    pca.plot_in_2d(X_test, y_pred, title=\"Naive Bayes\", accuracy=accuracy, legend_labels=data.target_names)\n",
        "\n",
        "if __name__ == \"__main__\":\n",
        "    main()"
      ],
      "execution_count": 7,
      "outputs": [
        {
          "output_type": "stream",
          "text": [
            "Accuracy: 0.38666666666666666\n"
          ],
          "name": "stdout"
        },
        {
          "output_type": "display_data",
          "data": {
            "image/png": "[encoded data removed]",
            "text/plain": [
              "<Figure size 432x288 with 1 Axes>"
            ]
          },
          "metadata": {
            "tags": []
          }
        }
      ]
    }
  ]
}