{
  "nbformat": 4,
  "nbformat_minor": 0,
  "metadata": {
    "colab": {
      "name": "HMM_AutoComplete.ipynb",
      "version": "0.3.2",
      "provenance": [],
      "collapsed_sections": [],
      "include_colab_link": true
    },
    "kernelspec": {
      "name": "python3",
      "display_name": "Python 3"
    }
  },
  "cells": [
    {
      "cell_type": "markdown",
      "metadata": {
        "id": "view-in-github",
        "colab_type": "text"
      },
      "source": [
        "<a href=\"https://colab.research.google.com/github/MangoHaha/MLFromScratch/blob/master/HMM_AutoComplete.ipynb\" target=\"_parent\"><img src=\"https://colab.research.google.com/assets/colab-badge.svg\" alt=\"Open In Colab\"/></a>"
      ]
    },
    {
      "cell_type": "code",
      "metadata": {
        "id": "ik3gL9xAGqJ6",
        "colab_type": "code",
        "colab": {
          "base_uri": "https://localhost:8080/",
          "height": 104
        },
        "outputId": "6d850c8f-8d86-4cfe-bbca-1191108c2359"
      },
      "source": [
        "!pip install sklearn\n",
        "import numpy as np\n",
        "from sklearn import datasets\n",
        "import matplotlib.pyplot as plt\n",
        "import math\n",
        "import sys"
      ],
      "execution_count": 1,
      "outputs": [
        {
          "output_type": "stream",
          "text": [
            "Requirement already satisfied: sklearn in /usr/local/lib/python3.6/dist-packages (0.0)\n",
            "Requirement already satisfied: scikit-learn in /usr/local/lib/python3.6/dist-packages (from sklearn) (0.21.3)\n",
            "Requirement already satisfied: numpy>=1.11.0 in /usr/local/lib/python3.6/dist-packages (from scikit-learn->sklearn) (1.16.4)\n",
            "Requirement already satisfied: scipy>=0.17.0 in /usr/local/lib/python3.6/dist-packages (from scikit-learn->sklearn) (1.3.1)\n",
            "Requirement already satisfied: joblib>=0.11 in /usr/local/lib/python3.6/dist-packages (from scikit-learn->sklearn) (0.13.2)\n"
          ],
          "name": "stdout"
        }
      ]
    },
    {
      "cell_type": "markdown",
      "metadata": {
        "id": "NN7WmRNtGszP",
        "colab_type": "text"
      },
      "source": [
        "P( w1, w2, w3, w4) = P(w1) P(w2|w1) P(w3|w1, w2) P(w4|w2, w3)\n",
        "\n"
      ]
    },
    {
      "cell_type": "code",
      "metadata": {
        "id": "9kXp2WNCOBmL",
        "colab_type": "code",
        "colab": {}
      },
      "source": [
        "import operator\n",
        "from collections import defaultdict\n",
        "class HMM_AutoComplete():\n",
        "  def __init__(self, file=None):\n",
        "    self.file = file\n",
        "    self.gram1 = {}\n",
        "    self.gram2 = {}\n",
        "    self.gram3 = {}\n",
        "    with open(file, \"r\") as myfile:\n",
        "      self.data = myfile.read()\n",
        "    self.sentences = self.data.lower().replace('\\r',' ').replace('\\n',' ')\\\n",
        "    .replace('?','.').replace('!','.').replace('“','.').replace('”','.')\\\n",
        "    .replace(\"\\\"\",\".\").replace('‘',' ').replace('-',' ').replace('’',' ')\\\n",
        "    .replace('\\'',' ').split(\".\")\n",
        "  \n",
        "  def fit(self):\n",
        "    for sentence in sentences:\n",
        "      words = sentence.replace(',', ' ').split(\" \")\n",
        "      words = self._remove_empty_words(words)\n",
        "      if(len(words) == 0):\n",
        "        continue\n",
        "      for i in range(len(words)):\n",
        "        if(i > 0):\n",
        "          self._update_dict(self.gram1, words[i-1], words[i])\n",
        "        if(i > 1):\n",
        "          self._update_dict(self.gram2, words[i-2] + \" \" + words[i-1], words[i])\n",
        "        if(i > 3):\n",
        "          self._update_dict(self.gram3, words[i-3] + \" \" + words[i-2] + \" \" + words[i-1], words[i])\n",
        "\n",
        "  def _update_dict(self, dic, pre, word):\n",
        "    if(pre not in dic):\n",
        "      dic[pre] = defaultdict(int)\n",
        "    dic[pre][word] += 1\n",
        "   \n",
        "  def _remove_empty_words(self, words):\n",
        "    word = []\n",
        "    for w in words:\n",
        "      if(w == ' '):\n",
        "        continue\n",
        "      word.append(w)\n",
        "    return word\n",
        "  \n",
        "  def _print_stat(self, t):\n",
        "    total=float(sum(t.values()))\n",
        "\n",
        "    # https://stackoverflow.com/questions/613183/how-do-i-sort-a-dictionary-by-value\n",
        "    s=sorted(t.items(), key=operator.itemgetter(1), reverse=True)\n",
        "    # take 5 from each sorted table\n",
        "    for pair in s[:5]:\n",
        "        print (\"%s %d%%\" % (pair[0], (float(pair[1])/total)*100))\n",
        "  \n",
        "  def predict(self, t):\n",
        "    \n",
        "    test_words=test.split(\" \")\n",
        "    test_len=len(test_words)\n",
        "    last_idx=test_len-1\n",
        "\n",
        "    if test_len>=3:\n",
        "        tmp=test_words[last_idx-2]+\" \"+test_words[last_idx-1]+\" \"+test_words[last_idx]\n",
        "        if tmp in self.gram3:\n",
        "            print (\"3-gram * third order. for sequence:\",tmp)\n",
        "            self._print_stat(self.gram3[tmp])\n",
        "\n",
        "    if test_len>=2:\n",
        "        tmp=test_words[last_idx-1]+\" \"+test_words[last_idx]\n",
        "        if tmp in self.gram2:\n",
        "            print (\"2-gram * second order. for sequence:\", tmp)\n",
        "            self._print_stat(self.gram2[tmp])\n",
        "\n",
        "    if test_len>=1:\n",
        "        tmp=test_words[last_idx]\n",
        "        if tmp in self.gram1:\n",
        "            print (\"1-gram * first order. for word:\", tmp)\n",
        "            self._print_stat(self.gram1[tmp])\n",
        "    print (\"\")"
      ],
      "execution_count": 0,
      "outputs": []
    },
    {
      "cell_type": "code",
      "metadata": {
        "id": "BVTiCs33NER1",
        "colab_type": "code",
        "colab": {
          "base_uri": "https://localhost:8080/",
          "height": 138
        },
        "outputId": "7e928bd3-9daf-46b0-81ac-41ca1083cdab"
      },
      "source": [
        "hmm = HMM_AutoComplete(\"text.txt\")\n",
        "hmm.fit()\n",
        "hmm.predict(\"it is just\")"
      ],
      "execution_count": 48,
      "outputs": [
        {
          "output_type": "stream",
          "text": [
            "2-gram * second order. for sequence: is just\n",
            "to 100%\n",
            "1-gram * first order. for word: just\n",
            "to 33%\n",
            "inference 33%\n",
            "as 33%\n",
            "\n"
          ],
          "name": "stdout"
        }
      ]
    }
  ]
}