{
  "nbformat": 4,
  "nbformat_minor": 0,
  "metadata": {
    "colab": {
      "name": "Super_Vector_Machine.ipynb",
      "version": "0.3.2",
      "provenance": [],
      "collapsed_sections": [],
      "include_colab_link": true
    },
    "kernelspec": {
      "name": "python3",
      "display_name": "Python 3"
    }
  },
  "cells": [
    {
      "cell_type": "markdown",
      "metadata": {
        "id": "view-in-github",
        "colab_type": "text"
      },
      "source": [
        "<a href=\"https://colab.research.google.com/github/MangoHaha/MLFromScratch/blob/master/Super_Vector_Machine.ipynb\" target=\"_parent\"><img src=\"https://colab.research.google.com/assets/colab-badge.svg\" alt=\"Open In Colab\"/></a>"
      ]
    },
    {
      "cell_type": "code",
      "metadata": {
        "id": "y6du5kKT5k2H",
        "colab_type": "code",
        "colab": {
          "base_uri": "https://localhost:8080/",
          "height": 104
        },
        "outputId": "2da104ac-2216-49c8-b839-0060b6895948"
      },
      "source": [
        "!pip install sklearn\n",
        "import numpy as np\n",
        "from sklearn import datasets\n",
        "import matplotlib.pyplot as plt\n",
        "import math\n",
        "import sys"
      ],
      "execution_count": 1,
      "outputs": [
        {
          "output_type": "stream",
          "text": [
            "Requirement already satisfied: sklearn in /usr/local/lib/python3.6/dist-packages (0.0)\n",
            "Requirement already satisfied: scikit-learn in /usr/local/lib/python3.6/dist-packages (from sklearn) (0.21.3)\n",
            "Requirement already satisfied: scipy>=0.17.0 in /usr/local/lib/python3.6/dist-packages (from scikit-learn->sklearn) (1.3.1)\n",
            "Requirement already satisfied: numpy>=1.11.0 in /usr/local/lib/python3.6/dist-packages (from scikit-learn->sklearn) (1.16.4)\n",
            "Requirement already satisfied: joblib>=0.11 in /usr/local/lib/python3.6/dist-packages (from scikit-learn->sklearn) (0.13.2)\n"
          ],
          "name": "stdout"
        }
      ]
    },
    {
      "cell_type": "code",
      "metadata": {
        "id": "YnHMyNXR5qtS",
        "colab_type": "code",
        "colab": {
          "base_uri": "https://localhost:8080/",
          "height": 124
        },
        "outputId": "3cf87dd9-a48a-4028-d2b5-4569e3fb7c73"
      },
      "source": [
        "from google.colab import drive\n",
        "drive.mount('/content/drive')"
      ],
      "execution_count": 2,
      "outputs": [
        {
          "output_type": "stream",
          "text": [
            "Go to this URL in a browser: https://accounts.google.com/o/oauth2/auth?client_id=947318989803-6bn6qk8qdgf4n4g3pfee6491hc0brc4i.apps.googleusercontent.com&redirect_uri=urn%3Aietf%3Awg%3Aoauth%3A2.0%3Aoob&scope=email%20https%3A%2F%2Fwww.googleapis.com%2Fauth%2Fdocs.test%20https%3A%2F%2Fwww.googleapis.com%2Fauth%2Fdrive%20https%3A%2F%2Fwww.googleapis.com%2Fauth%2Fdrive.photos.readonly%20https%3A%2F%2Fwww.googleapis.com%2Fauth%2Fpeopleapi.readonly&response_type=code\n",
            "\n",
            "Enter your authorization code:\n",
            "··········\n",
            "Mounted at /content/drive\n"
          ],
          "name": "stdout"
        }
      ]
    },
    {
      "cell_type": "code",
      "metadata": {
        "id": "HfHFp9B-5sqx",
        "colab_type": "code",
        "colab": {}
      },
      "source": [
        "import os\n",
        "os.chdir('/content/drive/My Drive/MLFromScratch')\n",
        "sys.path.insert(0,\"./utils\")\n",
        "\n",
        "from data_manipulation import divide_on_feature\n",
        "from data_manipulation import train_test_split, standardize\n",
        "from data_operation import calculate_entropy, accuracy_score\n",
        "from data_operation import mean_squared_error, calculate_variance\n",
        "from principal_component_analysis import PCA\n",
        "from data_manipulation import train_test_split, normalize"
      ],
      "execution_count": 0,
      "outputs": []
    },
    {
      "cell_type": "markdown",
      "metadata": {
        "id": "9WW96M9QQ773",
        "colab_type": "text"
      },
      "source": [
        "# Gradient Descent"
      ]
    },
    {
      "cell_type": "markdown",
      "metadata": {
        "id": "bRJZph5V6Iy6",
        "colab_type": "text"
      },
      "source": [
        "[Support Vector Machine](https://towardsdatascience.com/support-vector-machine-introduction-to-machine-learning-algorithms-934a444fca47)"
      ]
    },
    {
      "cell_type": "code",
      "metadata": {
        "id": "bEe9ixMO5uiw",
        "colab_type": "code",
        "colab": {}
      },
      "source": [
        "class SVM():\n",
        "  \"\"\"The Support Vector Machine classifier.\n",
        "    Uses cvxopt to solve the quadratic optimization problem.\n",
        "  \"\"\"\n",
        "  def compute_cost(self, Y, pred): #Y(m, 1) pred(m, 1)\n",
        "    value = Y * pred\n",
        "    if value > 1:\n",
        "        cost = 0\n",
        "    else:\n",
        "        cost = 1 - value\n",
        "    #print(\"Y:{}; pred:{}; cost:{}\".format(Y, pred, cost))\n",
        "    return cost\n",
        "    \n",
        "  def predict(self, X, weights, lam):\n",
        "    return np.dot(weights, X) + np.sum(lam*(weights**2))\n",
        "  \n",
        "  def fit(self, X, Y, itr, lr=0.1):\n",
        "    m, n = np.shape(X)\n",
        "    self.w = np.zeros(n,1)\n",
        "    for iter in range(1, itr):\n",
        "      for i, x in enumerate(X):\n",
        "        pred = self.predict(x.T, self.w, 1/iter)\n",
        "        cost = self.compute_cost(Y[i].reshape(1, 1), pred)\n",
        "        if(cost == 0):\n",
        "          grad = np.zeros(np.shape(self.w))\n",
        "        else:\n",
        "          grad = -(Y[i].T * x_train).T\n",
        "        grad = grad + 2/iter*self.w\n",
        "        self.w = self.w - lr*grad\n",
        "    return self.w\n",
        "  "
      ],
      "execution_count": 0,
      "outputs": []
    },
    {
      "cell_type": "code",
      "metadata": {
        "id": "AP5CwrvS8Mcj",
        "colab_type": "code",
        "colab": {}
      },
      "source": [
        "iris = datasets.load_iris()\n",
        "X = iris.data[:, :2]\n",
        "#print(X)\n",
        "y = (iris.target != 0) * 1\n",
        "\n",
        "model = SVM()\n",
        "model.fit(X,y)\n",
        "print(model.w)"
      ],
      "execution_count": 0,
      "outputs": []
    },
    {
      "cell_type": "markdown",
      "metadata": {
        "id": "pmbi7s7zUBmD",
        "colab_type": "text"
      },
      "source": [
        "# Analytical Solution"
      ]
    },
    {
      "cell_type": "markdown",
      "metadata": {
        "id": "9H_Cs1krzwSo",
        "colab_type": "text"
      },
      "source": [
        "[Practical Machine Learning Tutorial with Python](https://www.youtube.com/watch?v=ZDu3LKv9gOI)"
      ]
    },
    {
      "cell_type": "code",
      "metadata": {
        "id": "gBhCrt3ZRDar",
        "colab_type": "code",
        "colab": {}
      },
      "source": [
        "class SVM():\n",
        "  def __init__(self, iter=1):\n",
        "    self.iter = iter\n",
        "    self.lrs = [\n",
        "        0.01\n",
        "    ]\n",
        "    \n",
        "   \n",
        "  def fit(self, X, y):\n",
        "    dirs = [\n",
        "        [1, -1], [-1, -1], [-1, 1], [1,1]\n",
        "    ]\n",
        "    \n",
        "    X_y = {}\n",
        "    for i in np.unique(y):\n",
        "      print(i)\n",
        "      X_y[i] = X[np.where(y==i)]\n",
        "    \n",
        "    # Get the max feature\n",
        "    print(np.max(X))\n",
        "    max_feature = np.max(X) \n",
        "    # Init the w, using the boundary value\n",
        "    optimal_w = max_feature*10\n",
        "    optimized_param = {}\n",
        "    opt_dict = {}\n",
        "    \n",
        "    for lr in self.lrs:\n",
        "      cur_w = np.array([optimal_w, optimal_w])\n",
        "      optimized = False\n",
        "      while not optimized:\n",
        "        for b in np.arange(-1*max_feature, max_feature, lr):\n",
        "          for d in dirs:\n",
        "            w_dir = cur_w * d\n",
        "            found_opti = True\n",
        "            for label in np.unique(y):\n",
        "              for x in X_y[label]:\n",
        "                if(label*(x.T.dot(cur_w) + b)) < 1:\n",
        "                  found_opti= False\n",
        "            if found_opti:\n",
        "                opt_dict[np.linalg.norm(cur_w)] = [cur_w, b]\n",
        "          \n",
        "        if cur_w[0] < 0:\n",
        "          optimized = true\n",
        "        else:\n",
        "          cur_w = cur_w - lr\n",
        "          \n",
        "      norms = sorted([n for n in opt_dict])\n",
        "      self.w = opt_dict[norms[0]][0]\n",
        "      self.b = opt_dict[norms[0]][1]\n",
        "      \n",
        "      optimal_w = opt_dict[norms[0]][0][0]+step*2\n",
        "        "
      ],
      "execution_count": 0,
      "outputs": []
    },
    {
      "cell_type": "code",
      "metadata": {
        "id": "4NtEzNAP2PM2",
        "colab_type": "code",
        "colab": {}
      },
      "source": [
        "    def predict(self,features):\n",
        "        #sign(x.w+b)\n",
        "        classification = np.sign(np.dot(np.array(features),self.w)+self.b)\n",
        "        if classification!=0 and self.visualization:\n",
        "            self.ax.scatter(features[0],features[1],s=200,marker='*',c=self.colors[classification])\n",
        "        return (classification,np.dot(np.array(features),self.w)+self.b)\n",
        "    \n",
        "    def visualize(self):\n",
        "        [[self.ax.scatter(x[0],x[1],s=100,c=self.colors[i]) for x in data_dict[i]] for i in data_dict]\n",
        "        \n",
        "        # hyperplane = x.w+b (actually its a line)\n",
        "        # v = x0.w0+x1.w1+b -> x1 = (v-w[0].x[0]-b)/w1\n",
        "        #psv = 1     psv line ->  x.w+b = 1a small value of b we will increase it later\n",
        "        #nsv = -1    nsv line ->  x.w+b = -1\n",
        "        # dec = 0    db line  ->  x.w+b = 0\n",
        "        def hyperplane(x,w,b,v):\n",
        "            #returns a x2 value on line when given x1\n",
        "            return (-w[0]*x-b+v)/w[1]\n",
        "       \n",
        "        hyp_x_min= self.min_feature_value*0.9\n",
        "        hyp_x_max = self.max_feature_value*1.1\n",
        "        \n",
        "        # (w.x+b)=1\n",
        "        # positive support vector hyperplane\n",
        "        pav1 = hyperplane(hyp_x_min,self.w,self.b,1)\n",
        "        pav2 = hyperplane(hyp_x_max,self.w,self.b,1)\n",
        "        self.ax.plot([hyp_x_min,hyp_x_max],[pav1,pav2],'k')\n",
        "        \n",
        "        # (w.x+b)=-1\n",
        "        # negative support vector hyperplane\n",
        "        nav1 = hyperplane(hyp_x_min,self.w,self.b,-1)\n",
        "        nav2 = hyperplane(hyp_x_max,self.w,self.b,-1)\n",
        "        self.ax.plot([hyp_x_min,hyp_x_max],[nav1,nav2],'k')\n",
        "        \n",
        "        # (w.x+b)=0\n",
        "        # db support vector hyperplane\n",
        "        db1 = hyperplane(hyp_x_min,self.w,self.b,0)\n",
        "        db2 = hyperplane(hyp_x_max,self.w,self.b,0)\n",
        "        self.ax.plot([hyp_x_min,hyp_x_max],[db1,db2],'y--')"
      ],
      "execution_count": 0,
      "outputs": []
    },
    {
      "cell_type": "code",
      "metadata": {
        "id": "eZBhvBXH6sBB",
        "colab_type": "code",
        "colab": {
          "base_uri": "https://localhost:8080/",
          "height": 69
        },
        "outputId": "1fe72e32-6fa7-4913-f541-ffc3d8859fa3"
      },
      "source": [
        "#data_dict = {-1:np.array([[1,7],[2,8],[3,8]]),1:np.array([[5,1],[6,-1],[7,3]])}\n",
        "X = np.array([[1,7],[2,8],[3,8],[5,1],[6,-1],[7,3]])\n",
        "y = np.array([-1,-1,-1,1,1,1])\n",
        "\n",
        "svm = SVM() # Linear Kernel\n",
        "svm.fit(X, y)\n",
        "svm.visualize()\n"
      ],
      "execution_count": 0,
      "outputs": [
        {
          "output_type": "stream",
          "text": [
            "-1\n",
            "1\n",
            "8\n"
          ],
          "name": "stdout"
        }
      ]
    },
    {
      "cell_type": "code",
      "metadata": {
        "id": "DQVfxMWA4c-I",
        "colab_type": "code",
        "colab": {
          "base_uri": "https://localhost:8080/",
          "height": 35
        },
        "outputId": "7b5ae056-76b9-4615-c3ce-7bcc559c8b79"
      },
      "source": [
        "X = [1,7]\n",
        "X = np.array(X)\n",
        "X-2"
      ],
      "execution_count": 87,
      "outputs": [
        {
          "output_type": "execute_result",
          "data": {
            "text/plain": [
              "array([-1,  5])"
            ]
          },
          "metadata": {
            "tags": []
          },
          "execution_count": 87
        }
      ]
    }
  ]
}