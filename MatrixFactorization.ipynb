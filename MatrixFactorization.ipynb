{
  "nbformat": 4,
  "nbformat_minor": 0,
  "metadata": {
    "colab": {
      "name": "MatrixFactorization.ipynb",
      "version": "0.3.2",
      "provenance": [],
      "collapsed_sections": [],
      "include_colab_link": true
    },
    "kernelspec": {
      "name": "python2",
      "display_name": "Python 2"
    }
  },
  "cells": [
    {
      "cell_type": "markdown",
      "metadata": {
        "id": "view-in-github",
        "colab_type": "text"
      },
      "source": [
        "<a href=\"https://colab.research.google.com/github/MangoHaha/MLFromScratch/blob/master/MatrixFactorization.ipynb\" target=\"_parent\"><img src=\"https://colab.research.google.com/assets/colab-badge.svg\" alt=\"Open In Colab\"/></a>"
      ]
    },
    {
      "cell_type": "code",
      "metadata": {
        "id": "2lbiTtBm1C-U",
        "colab_type": "code",
        "colab": {
          "base_uri": "https://localhost:8080/",
          "height": 86
        },
        "outputId": "d7cd1e19-7ec9-4dc3-efe1-a3cf4c048d1e"
      },
      "source": [
        "!pip install sklearn\n",
        "import numpy as np\n",
        "from sklearn import datasets\n",
        "import matplotlib.pyplot as plt\n",
        "import math\n",
        "import sys"
      ],
      "execution_count": 1,
      "outputs": [
        {
          "output_type": "stream",
          "text": [
            "Requirement already satisfied: sklearn in /usr/local/lib/python2.7/dist-packages (0.0)\n",
            "Requirement already satisfied: scikit-learn in /usr/local/lib/python2.7/dist-packages (from sklearn) (0.20.3)\n",
            "Requirement already satisfied: scipy>=0.13.3 in /usr/local/lib/python2.7/dist-packages (from scikit-learn->sklearn) (1.2.2)\n",
            "Requirement already satisfied: numpy>=1.8.2 in /usr/local/lib/python2.7/dist-packages (from scikit-learn->sklearn) (1.16.4)\n"
          ],
          "name": "stdout"
        }
      ]
    },
    {
      "cell_type": "markdown",
      "metadata": {
        "id": "CeEOgsRp1F3C",
        "colab_type": "text"
      },
      "source": [
        "[A Simple Tutorial and Implementation in Python](http://www.albertauyeung.com/post/python-matrix-factorization/)"
      ]
    },
    {
      "cell_type": "markdown",
      "metadata": {
        "id": "VkyllLE03tdF",
        "colab_type": "text"
      },
      "source": [
        "        prediction(i, j) = self.b + self.b_u[i] + self.b_i[j] + self.P[i, :].dot(self.Q[j, :].T)\n"
      ]
    },
    {
      "cell_type": "code",
      "metadata": {
        "id": "cXKo7hNQ1MK1",
        "colab_type": "code",
        "colab": {}
      },
      "source": [
        "class MatrixFactorization():\n",
        "  def __init__(self,X, itr=20, lr = 0.1, lamb=0.01, dim_k = 2):\n",
        "    self.data = X # dataset m x n\n",
        "    self.lr = lr\n",
        "    self.itr = itr\n",
        "    self.lamb = lamb\n",
        "    self.dim_k = dim_k\n",
        "    self.num_movie, self.num_user = np.shape(X)\n",
        "    self.P = np.random.random_sample((self.num_movie, dim_k)) #matrix of movie x features m x k\n",
        "    self.Q = np.random.random_sample((self.num_user, dim_k)) # matrix of user x features n x k\n",
        "    self.b = 0\n",
        "    self.bu = np.zeros(self.num_user)\n",
        "    self.bm = np.zeros(self.num_movie)\n",
        "    \n",
        "  def predict(self, i, j):\n",
        "    return self.b + self.bm[i] + self.bu[j] + self.P[i].dot(self.Q[j].T)\n",
        "  \n",
        "  def fit(self):\n",
        "    learning_curvey = []\n",
        "    for n in range(self.itr):\n",
        "      for i in range(self.num_movie):\n",
        "        for j in range(self.num_user):\n",
        "          self._gradient_descent(i, j)\n",
        "      learning_curvey.append(self._mse_())\n",
        "    return learning_curvey\n",
        "          \n",
        "  def _gradient_descent(self, i, j):\n",
        "    predict = self.predict(i, j)\n",
        "    err = self.data[i][j] - predict\n",
        "    \n",
        "    #updating the bias\n",
        "    self.b -= self.lr*(err + self.lamb*self.b)\n",
        "    self.bm[i] += self.lr*(err + self.lamb*self.bm[i])\n",
        "    self.bu[j] += self.lr*(err + self.lamb*self.bu[j])\n",
        "    \n",
        "    #updating parameter\n",
        "    self.P[i, :] += self.lr*(err + self.lamb*self.P[i, :])\n",
        "    self.Q[j, :] += self.lr*(err + self.lamb*self.Q[j, :])\n",
        "    \n",
        "  def _mse_(self):\n",
        "    err = 0\n",
        "    for i in range(self.num_movie):\n",
        "      for j in range(self.num_user):\n",
        "        err += (self.predict(i, j) - self.data[i][j])**2\n",
        "        \n",
        "    return np.sqrt(err)    "
      ],
      "execution_count": 0,
      "outputs": []
    },
    {
      "cell_type": "code",
      "metadata": {
        "id": "hJixJ1MF84HW",
        "colab_type": "code",
        "colab": {
          "base_uri": "https://localhost:8080/",
          "height": 55
        },
        "outputId": "be4ff10a-1a29-4b1a-c2d3-434ff7ed0ae7"
      },
      "source": [
        "R = np.array([[5,3,0,1],[4,0,0,1],[1,1,0,5],[1,0,0,4],[0,1,5,4],[0,0,1,0]])\n",
        "mf = MatrixFactorization(R)\n",
        "print(mf.fit())\n"
      ],
      "execution_count": 28,
      "outputs": [
        {
          "output_type": "stream",
          "text": [
            "[8.307743208453065, 8.2861241366868, 8.468520591381633, 8.417512159820193, 8.359075296542557, 8.307703952140697, 8.25878805112167, 8.211474632256547, 8.165795526144, 8.1218216522318, 8.07960389981914, 8.039183507580086, 8.000596979970926, 7.963878164709413, 7.929059918915982, 7.896175987338906, 7.865263284976943, 7.836364737055561, 7.809532894999047, 7.784834695061843]\n"
          ],
          "name": "stdout"
        }
      ]
    }
  ]
}